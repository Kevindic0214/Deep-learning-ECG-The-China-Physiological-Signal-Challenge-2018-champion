{
 "cells": [
  {
   "cell_type": "code",
   "execution_count": null,
   "metadata": {},
   "outputs": [],
   "source": [
    "import tensorflow as tf\n",
    "from tensorflow.keras import backend as K\n",
    "from tensorflow.keras.models import Sequential, load_model\n",
    "from tensorflow.keras.layers import LSTM, GRU, TimeDistributed, Bidirectional, LeakyReLU\n",
    "from tensorflow.keras.layers import Dense, Dropout, Activation, Flatten, Input, Reshape\n",
    "from tensorflow.keras.layers import Convolution1D, MaxPool1D, GlobalAveragePooling1D, concatenate, AveragePooling1D\n",
    "from tensorflow.keras.utils import multi_gpu_model\n",
    "from tensorflow.keras.callbacks import ModelCheckpoint, LearningRateScheduler, EarlyStopping\n",
    "from tensorflow.keras import initializers, regularizers, constraints\n",
    "from tensorflow.keras.layers import Layer, BatchNormalization\n",
    "\n",
    "# Example for replacing CuDNNGRU\n",
    "x = Bidirectional(GRU(12, input_shape=(2250,12), recurrent_activation='sigmoid', return_sequences=True, return_state=False))(cnnout)\n",
    "\n",
    "# GPU session configuration (for TensorFlow 2.x compatibility)\n",
    "tf.compat.v1.disable_eager_execution()\n",
    "sess = tf.compat.v1.Session(config=tf.compat.v1.ConfigProto(log_device_placement=True))"
   ]
  }
 ],
 "metadata": {
  "kernelspec": {
   "display_name": "ECG_analysis_env",
   "language": "python",
   "name": "python3"
  },
  "language_info": {
   "name": "python",
   "version": "3.9.20"
  }
 },
 "nbformat": 4,
 "nbformat_minor": 2
}
