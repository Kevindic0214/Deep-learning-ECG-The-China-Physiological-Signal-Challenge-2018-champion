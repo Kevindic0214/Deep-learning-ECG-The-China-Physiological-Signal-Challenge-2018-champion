{
 "cells": [
  {
   "cell_type": "code",
   "execution_count": 1,
   "metadata": {},
   "outputs": [
    {
     "name": "stdout",
     "output_type": "stream",
     "text": [
      "ECG structure type: <class 'numpy.ndarray'>\n",
      "ECG shape: (1, 1)\n",
      "ECG data: [[(array(['Male'], dtype='<U4'), array([[74]], dtype=uint8), array([[ 0.0282288 ,  0.0392288 ,  0.0452288 , ...,  0.2582288 ,\n",
      "           0.2592288 ,  0.2592288 ],\n",
      "         [ 0.00672947,  0.01072947,  0.01472947, ...,  0.24772947,\n",
      "           0.24872947,  0.24972947],\n",
      "         [-0.02149933, -0.02849933, -0.03049933, ..., -0.01049933,\n",
      "          -0.01049933, -0.00949933],\n",
      "         ...,\n",
      "         [-0.11200653, -0.11000653, -0.10800653, ...,  0.19399347,\n",
      "           0.19399347,  0.19499347],\n",
      "         [-0.5959572 , -0.5899572 , -0.5819572 , ...,  0.3070428 ,\n",
      "           0.3070428 ,  0.3070428 ],\n",
      "         [-0.01558507, -0.00658507,  0.00241493, ...,  0.21341493,\n",
      "           0.21441493,  0.21441493]]))                                                                                       ]]\n"
     ]
    }
   ],
   "source": [
    "from scipy.io import loadmat\n",
    "\n",
    "# Replace with your .mat file path\n",
    "mat_file_path = r'D:\\NYCU\\Introduction to Artificial Intelligence\\Final Project\\Project\\TrainingSet1\\A0001.mat'\n",
    "data = loadmat(mat_file_path)\n",
    "\n",
    "# View the detailed structure of the ECG variable\n",
    "ecg_data = data['ECG']\n",
    "print(\"ECG structure type:\", type(ecg_data))\n",
    "print(\"ECG shape:\", ecg_data.shape)\n",
    "print(\"ECG data:\", ecg_data)"
   ]
  },
  {
   "cell_type": "code",
   "execution_count": 2,
   "metadata": {},
   "outputs": [
    {
     "name": "stderr",
     "output_type": "stream",
     "text": [
      "Processing ECG data: 100%|██████████| 2000/2000 [00:57<00:00, 35.03it/s]\n"
     ]
    }
   ],
   "source": [
    "import numpy as np\n",
    "import scipy.io as sio\n",
    "import os\n",
    "from tqdm import tqdm\n",
    "\n",
    "def process_and_save_ecg_data(folder_path, save_path):\n",
    "    max_length = 72000  # A uniform length of 72000\n",
    "\n",
    "    for filename in tqdm(sorted(os.listdir(folder_path)), desc=\"Processing ECG data\"):\n",
    "        if filename.endswith('.mat'):\n",
    "            file_path = os.path.join(folder_path, filename)\n",
    "            mat_data = sio.loadmat(file_path)\n",
    "            \n",
    "            # Extract ECG signal data\n",
    "            ecg_record = mat_data['ECG'][0][0][2]\n",
    "            \n",
    "            # Check if the number of leads is 12\n",
    "            if ecg_record.shape[0] != 12:\n",
    "                print(f\"Warning: {filename} does not contain 12 leads\")\n",
    "                continue\n",
    "\n",
    "            # Zero padding\n",
    "            ecg_record_padded = np.pad(ecg_record, ((0, 0), (0, max_length - ecg_record.shape[1])), 'constant')\n",
    "\n",
    "            # Save each processed file as `.npy` format\n",
    "            save_filename = os.path.join(save_path, f\"{os.path.splitext(filename)[0]}.npy\")\n",
    "            np.save(save_filename, ecg_record_padded)\n",
    "\n",
    "# Replace with your folder path\n",
    "folder_path = r'D:\\NYCU\\Introduction to Artificial Intelligence\\Final Project\\Project\\TrainingSet1'\n",
    "save_path = r'D:\\NYCU\\Introduction to Artificial Intelligence\\Final Project\\Project\\Processed Data'\n",
    "\n",
    "# Ensure the save folder exists\n",
    "os.makedirs(save_path, exist_ok=True)\n",
    "\n",
    "process_and_save_ecg_data(folder_path, save_path)"
   ]
  },
  {
   "cell_type": "code",
   "execution_count": 3,
   "metadata": {},
   "outputs": [
    {
     "name": "stdout",
     "output_type": "stream",
     "text": [
      "Data shape: (12, 72000)\n",
      "Data sample: [[ 2.82288000e-02  3.92288000e-02  4.52288000e-02  4.92288000e-02\n",
      "   5.42288000e-02  5.62288000e-02  5.82288000e-02  6.02288000e-02\n",
      "   6.02288000e-02  6.12288000e-02]\n",
      " [ 6.72946667e-03  1.07294667e-02  1.47294667e-02  1.67294667e-02\n",
      "   1.97294667e-02  2.37294667e-02  2.87294667e-02  3.47294667e-02\n",
      "   4.07294667e-02  4.77294667e-02]\n",
      " [-2.14993333e-02 -2.84993333e-02 -3.04993333e-02 -3.24993333e-02\n",
      "  -3.44993333e-02 -3.24993333e-02 -2.94993333e-02 -2.54993333e-02\n",
      "  -1.94993333e-02 -1.34993333e-02]\n",
      " [-1.74906667e-02 -2.44906667e-02 -2.94906667e-02 -3.24906667e-02\n",
      "  -3.64906667e-02 -3.94906667e-02 -4.24906667e-02 -4.74906667e-02\n",
      "  -5.04906667e-02 -5.44906667e-02]\n",
      " [ 2.43552000e-02  3.33552000e-02  3.83552000e-02  4.13552000e-02\n",
      "   4.43552000e-02  4.43552000e-02  4.43552000e-02  4.23552000e-02\n",
      "   3.93552000e-02  3.63552000e-02]\n",
      " [-6.80013333e-03 -8.80013333e-03 -6.80013333e-03 -6.80013333e-03\n",
      "  -6.80013333e-03 -3.80013333e-03  1.99866667e-04  4.19986667e-03\n",
      "   1.01998667e-02  1.61998667e-02]\n",
      " [-2.90052000e-01 -3.04052000e-01 -3.17052000e-01 -3.29052000e-01\n",
      "  -3.42052000e-01 -3.53052000e-01 -3.64052000e-01 -3.73052000e-01\n",
      "  -3.82052000e-01 -3.90052000e-01]\n",
      " [-2.04020933e-01 -2.12020933e-01 -2.19020933e-01 -2.26020933e-01\n",
      "  -2.33020933e-01 -2.39020933e-01 -2.46020933e-01 -2.51020933e-01\n",
      "  -2.58020933e-01 -2.64020933e-01]\n",
      " [-9.56593333e-02 -9.96593333e-02 -1.04659333e-01 -1.08659333e-01\n",
      "  -1.10659333e-01 -1.12659333e-01 -1.13659333e-01 -1.13659333e-01\n",
      "  -1.13659333e-01 -1.12659333e-01]\n",
      " [-1.12006533e-01 -1.10006533e-01 -1.08006533e-01 -1.05006533e-01\n",
      "  -1.00006533e-01 -9.60065333e-02 -9.00065333e-02 -8.20065333e-02\n",
      "  -7.40065333e-02 -6.50065333e-02]\n",
      " [-5.95957200e-01 -5.89957200e-01 -5.81957200e-01 -5.72957200e-01\n",
      "  -5.60957200e-01 -5.50957200e-01 -5.37957200e-01 -5.25957200e-01\n",
      "  -5.12957200e-01 -4.99957200e-01]\n",
      " [-1.55850667e-02 -6.58506667e-03  2.41493333e-03  1.34149333e-02\n",
      "   2.44149333e-02  3.54149333e-02  4.74149333e-02  6.14149333e-02\n",
      "   7.54149333e-02  8.84149333e-02]]\n"
     ]
    }
   ],
   "source": [
    "import numpy as np\n",
    "import os\n",
    "\n",
    "npy_file_path = r'D:\\NYCU\\Introduction to Artificial Intelligence\\Final Project\\Project\\Processed Data\\A0001.npy'\n",
    "\n",
    "# Load the .npy file\n",
    "data = np.load(npy_file_path)\n",
    "\n",
    "# Check the shape of the data\n",
    "print(\"Data shape:\", data.shape)\n",
    "\n",
    "# View a portion of the data (first 10 data points)\n",
    "print(\"Data sample:\", data[:, :10])"
   ]
  },
  {
   "cell_type": "code",
   "execution_count": 4,
   "metadata": {},
   "outputs": [
    {
     "name": "stdout",
     "output_type": "stream",
     "text": [
      "  Recording  First_label  Second_label  Third_label\n",
      "0     A0001            5           NaN          NaN\n",
      "1     A0002            1           NaN          NaN\n",
      "2     A0003            2           NaN          NaN\n",
      "3     A0004            2           NaN          NaN\n",
      "4     A0005            7           NaN          NaN\n"
     ]
    }
   ],
   "source": [
    "import pandas as pd\n",
    "\n",
    "# Read the label CSV\n",
    "reference_path = r'D:\\NYCU\\Introduction to Artificial Intelligence\\Final Project\\Project\\REFERENCE_1.csv'\n",
    "labels_df = pd.read_csv(reference_path)\n",
    "\n",
    "# Check the loaded data\n",
    "print(labels_df.head())"
   ]
  },
  {
   "cell_type": "code",
   "execution_count": 5,
   "metadata": {},
   "outputs": [
    {
     "name": "stdout",
     "output_type": "stream",
     "text": [
      "  Recording  First_label  Second_label  Third_label\n",
      "0     A0001            5           NaN          NaN\n",
      "1     A0002            1           NaN          NaN\n",
      "2     A0003            2           NaN          NaN\n",
      "3     A0004            2           NaN          NaN\n",
      "4     A0005            7           NaN          NaN\n",
      "Total valid files: 2000\n"
     ]
    }
   ],
   "source": [
    "import pandas as pd\n",
    "import os\n",
    "\n",
    "# Read the label CSV\n",
    "reference_path = r'D:\\NYCU\\Introduction to Artificial Intelligence\\Final Project\\Project\\REFERENCE_1.csv'\n",
    "labels_df = pd.read_csv(reference_path)\n",
    "\n",
    "# Set the folder path\n",
    "folder_path = r'D:\\NYCU\\Introduction to Artificial Intelligence\\Final Project\\Project\\Processed Data'\n",
    "\n",
    "# Filter out rows where the corresponding .npy file does not exist\n",
    "labels_df = labels_df[labels_df['Recording'].apply(lambda x: os.path.exists(os.path.join(folder_path, f\"{x}.npy\")))]\n",
    "\n",
    "# Check the filtered data\n",
    "print(labels_df.head())\n",
    "print(f\"Total valid files: {len(labels_df)}\")\n"
   ]
  },
  {
   "cell_type": "code",
   "execution_count": 6,
   "metadata": {},
   "outputs": [
    {
     "name": "stdout",
     "output_type": "stream",
     "text": [
      "One-hot encoded labels shape: (2000, 9)\n"
     ]
    }
   ],
   "source": [
    "from keras.utils import to_categorical\n",
    "\n",
    "# Assuming there are 9 classes, encode `First_label` as one-hot format\n",
    "num_classes = 9  # Adjust according to the actual number of classes\n",
    "y = to_categorical(labels_df['First_label'] - 1, num_classes=num_classes)  # Subtract 1 to make labels start from 0\n",
    "print(\"One-hot encoded labels shape:\", y.shape)"
   ]
  },
  {
   "cell_type": "code",
   "execution_count": null,
   "metadata": {},
   "outputs": [],
   "source": [
    "import numpy as np\n",
    "import os\n",
    "from tqdm import tqdm  # Import tqdm\n",
    "\n",
    "# Load data for all samples\n",
    "folder_path = r'D:\\NYCU\\Introduction to Artificial Intelligence\\Final Project\\Project\\Processed Data'\n",
    "X = []\n",
    "\n",
    "# Use tqdm to wrap the loop for progress tracking\n",
    "for recording_name in tqdm(labels_df['Recording'], desc=\"Loading files\"):\n",
    "    file_path = os.path.join(folder_path, f\"{recording_name}.npy\")\n",
    "    if os.path.exists(file_path):\n",
    "        X.append(np.load(file_path).astype(np.float32))\n",
    "\n",
    "# Convert the list to a numpy array\n",
    "X = np.array(X)"
   ]
  },
  {
   "cell_type": "code",
   "execution_count": 8,
   "metadata": {},
   "outputs": [],
   "source": [
    "from sklearn.model_selection import train_test_split\n",
    "\n",
    "# Split the data into training and testing sets\n",
    "X_train, X_test, y_train, y_test = train_test_split(X, y, test_size=0.3, random_state=42)"
   ]
  },
  {
   "cell_type": "code",
   "execution_count": 19,
   "metadata": {},
   "outputs": [],
   "source": [
    "X_train = X_train.astype('float32')\n",
    "y_train = y_train.astype('float32')\n",
    "X_test = X_test.astype('float32')\n",
    "y_test = y_test.astype('float32')"
   ]
  },
  {
   "cell_type": "code",
   "execution_count": 15,
   "metadata": {},
   "outputs": [
    {
     "name": "stdout",
     "output_type": "stream",
     "text": [
      "X_train shape: (1400, 12, 72000)\n",
      "X_test shape: (600, 12, 72000)\n",
      "y_train shape: (1400, 9)\n",
      "y_test shape: (600, 9)\n"
     ]
    }
   ],
   "source": [
    "print(\"X_train shape:\", X_train.shape)\n",
    "print(\"X_test shape:\", X_test.shape)\n",
    "print(\"y_train shape:\", y_train.shape)\n",
    "print(\"y_test shape:\", y_test.shape)"
   ]
  },
  {
   "cell_type": "code",
   "execution_count": 11,
   "metadata": {},
   "outputs": [
    {
     "name": "stdout",
     "output_type": "stream",
     "text": [
      "GPU settings configured successfully, memory growth enabled\n"
     ]
    }
   ],
   "source": [
    "import tensorflow as tf\n",
    "\n",
    "# Configure GPU settings\n",
    "gpus = tf.config.experimental.list_physical_devices('GPU')\n",
    "if gpus:\n",
    "    try:\n",
    "        # Set memory growth to avoid allocating all memory at once\n",
    "        for gpu in gpus:\n",
    "            tf.config.experimental.set_memory_growth(gpu, True)\n",
    "        print(\"GPU settings configured successfully, memory growth enabled\")\n",
    "    except RuntimeError as e:\n",
    "        print(e)"
   ]
  },
  {
   "cell_type": "code",
   "execution_count": 10,
   "metadata": {},
   "outputs": [],
   "source": [
    "import tensorflow as tf\n",
    "from keras.layers import Layer\n",
    "from keras import backend as K\n",
    "from keras import initializers, regularizers, constraints\n",
    "\n",
    "def dot_product(x, kernel):\n",
    "    if K.backend() == 'tensorflow':\n",
    "        return K.squeeze(K.dot(x, K.expand_dims(kernel)), axis=-1)\n",
    "    else:\n",
    "        return K.dot(x, kernel)\n",
    "\n",
    "class AttentionWithContext(Layer):\n",
    "    \"\"\"\n",
    "    AttentionWithContext is a custom Keras layer that implements an attention mechanism with context.\n",
    "    This layer computes a weighted sum of the input features, where the weights are determined by an attention mechanism.\n",
    "    Attributes:\n",
    "        W_regularizer: Regularizer function applied to the weight matrix W.\n",
    "        u_regularizer: Regularizer function applied to the context vector u.\n",
    "        b_regularizer: Regularizer function applied to the bias vector b.\n",
    "        W_constraint: Constraint function applied to the weight matrix W.\n",
    "        u_constraint: Constraint function applied to the context vector u.\n",
    "        b_constraint: Constraint function applied to the bias vector b.\n",
    "        bias: Boolean, whether to include a bias term.\n",
    "    Methods:\n",
    "        build(input_shape):\n",
    "            Creates the layer's weights.\n",
    "        call(x, mask=None):\n",
    "            Computes the attention-weighted sum of the input features.\n",
    "        compute_output_shape(input_shape):\n",
    "            Computes the output shape of the layer.\n",
    "    \"\"\"\n",
    "    def __init__(self,\n",
    "                 W_regularizer=None, u_regularizer=None, b_regularizer=None,\n",
    "                 W_constraint=None, u_constraint=None, b_constraint=None,\n",
    "                 bias=True, **kwargs): \n",
    "        self.supports_masking = True\n",
    "        self.init = initializers.get('glorot_uniform') \n",
    "        self.W_regularizer = regularizers.get(W_regularizer)\n",
    "        self.u_regularizer = regularizers.get(u_regularizer)\n",
    "        self.b_regularizer = regularizers.get(b_regularizer) \n",
    "        self.W_constraint = constraints.get(W_constraint)\n",
    "        self.u_constraint = constraints.get(u_constraint)\n",
    "        self.b_constraint = constraints.get(b_constraint) \n",
    "        self.bias = bias\n",
    "        super(AttentionWithContext, self).__init__(**kwargs)\n",
    "\n",
    "    def build(self, input_shape):\n",
    "        self.W = self.add_weight(shape=(input_shape[-1], input_shape[-1]),\n",
    "                                 initializer=self.init,\n",
    "                                 regularizer=self.W_regularizer,\n",
    "                                 constraint=self.W_constraint,\n",
    "                                 name='W')\n",
    "        \n",
    "        if self.bias:\n",
    "            self.b = self.add_weight(shape=(input_shape[-1],),\n",
    "                                     initializer='zeros',\n",
    "                                     regularizer=self.b_regularizer,\n",
    "                                     constraint=self.b_constraint,\n",
    "                                     name='b')\n",
    "        \n",
    "        self.u = self.add_weight(shape=(input_shape[-1],),\n",
    "                                 initializer=self.init,\n",
    "                                 regularizer=self.u_regularizer,\n",
    "                                 constraint=self.u_constraint,\n",
    "                                 name='u')\n",
    "        \n",
    "        super(AttentionWithContext, self).build(input_shape)\n",
    "\n",
    "    def call(self, x, mask=None):\n",
    "        uit = dot_product(x, self.W) \n",
    "        if self.bias:\n",
    "            uit += self.b \n",
    "        uit = K.tanh(uit)\n",
    "        \n",
    "        ait = dot_product(uit, self.u) \n",
    "        a = K.exp(ait)\n",
    "        \n",
    "        if mask is not None:\n",
    "            a *= K.cast(mask, K.floatx())\n",
    "            \n",
    "        a /= K.cast(K.sum(a, axis=1, keepdims=True) + K.epsilon(), K.floatx()) \n",
    "        a = K.expand_dims(a)\n",
    "        \n",
    "        weighted_input = x * a\n",
    "        return K.sum(weighted_input, axis=1)\n",
    "\n",
    "    def compute_output_shape(self, input_shape):\n",
    "        return input_shape[0], input_shape[-1]"
   ]
  },
  {
   "cell_type": "code",
   "execution_count": 16,
   "metadata": {},
   "outputs": [
    {
     "name": "stdout",
     "output_type": "stream",
     "text": [
      "Model: \"model_1\"\n",
      "_________________________________________________________________\n",
      " Layer (type)                Output Shape              Param #   \n",
      "=================================================================\n",
      " main_input (InputLayer)     [(None, 72000, 12)]       0         \n",
      "                                                                 \n",
      " conv1d_15 (Conv1D)          (None, 72000, 12)         444       \n",
      "                                                                 \n",
      " leaky_re_lu_17 (LeakyReLU)  (None, 72000, 12)         0         \n",
      "                                                                 \n",
      " conv1d_16 (Conv1D)          (None, 72000, 12)         444       \n",
      "                                                                 \n",
      " leaky_re_lu_18 (LeakyReLU)  (None, 72000, 12)         0         \n",
      "                                                                 \n",
      " conv1d_17 (Conv1D)          (None, 36000, 12)         3468      \n",
      "                                                                 \n",
      " leaky_re_lu_19 (LeakyReLU)  (None, 36000, 12)         0         \n",
      "                                                                 \n",
      " dropout_7 (Dropout)         (None, 36000, 12)         0         \n",
      "                                                                 \n",
      " conv1d_18 (Conv1D)          (None, 36000, 24)         888       \n",
      "                                                                 \n",
      " leaky_re_lu_20 (LeakyReLU)  (None, 36000, 24)         0         \n",
      "                                                                 \n",
      " conv1d_19 (Conv1D)          (None, 36000, 24)         1752      \n",
      "                                                                 \n",
      " leaky_re_lu_21 (LeakyReLU)  (None, 36000, 24)         0         \n",
      "                                                                 \n",
      " conv1d_20 (Conv1D)          (None, 18000, 24)         13848     \n",
      "                                                                 \n",
      " leaky_re_lu_22 (LeakyReLU)  (None, 18000, 24)         0         \n",
      "                                                                 \n",
      " dropout_8 (Dropout)         (None, 18000, 24)         0         \n",
      "                                                                 \n",
      " conv1d_21 (Conv1D)          (None, 18000, 48)         3504      \n",
      "                                                                 \n",
      " leaky_re_lu_23 (LeakyReLU)  (None, 18000, 48)         0         \n",
      "                                                                 \n",
      " conv1d_22 (Conv1D)          (None, 18000, 48)         6960      \n",
      "                                                                 \n",
      " leaky_re_lu_24 (LeakyReLU)  (None, 18000, 48)         0         \n",
      "                                                                 \n",
      " conv1d_23 (Conv1D)          (None, 9000, 48)          55344     \n",
      "                                                                 \n",
      " leaky_re_lu_25 (LeakyReLU)  (None, 9000, 48)          0         \n",
      "                                                                 \n",
      " dropout_9 (Dropout)         (None, 9000, 48)          0         \n",
      "                                                                 \n",
      " conv1d_24 (Conv1D)          (None, 9000, 96)          13920     \n",
      "                                                                 \n",
      " leaky_re_lu_26 (LeakyReLU)  (None, 9000, 96)          0         \n",
      "                                                                 \n",
      " conv1d_25 (Conv1D)          (None, 9000, 96)          27744     \n",
      "                                                                 \n",
      " leaky_re_lu_27 (LeakyReLU)  (None, 9000, 96)          0         \n",
      "                                                                 \n",
      " conv1d_26 (Conv1D)          (None, 4500, 96)          221280    \n",
      "                                                                 \n",
      " leaky_re_lu_28 (LeakyReLU)  (None, 4500, 96)          0         \n",
      "                                                                 \n",
      " dropout_10 (Dropout)        (None, 4500, 96)          0         \n",
      "                                                                 \n",
      " conv1d_27 (Conv1D)          (None, 4500, 192)         55488     \n",
      "                                                                 \n",
      " leaky_re_lu_29 (LeakyReLU)  (None, 4500, 192)         0         \n",
      "                                                                 \n",
      " conv1d_28 (Conv1D)          (None, 4500, 192)         110784    \n",
      "                                                                 \n",
      " leaky_re_lu_30 (LeakyReLU)  (None, 4500, 192)         0         \n",
      "                                                                 \n",
      " conv1d_29 (Conv1D)          (None, 2250, 192)         884928    \n",
      "                                                                 \n",
      " leaky_re_lu_31 (LeakyReLU)  (None, 2250, 192)         0         \n",
      "                                                                 \n",
      " dropout_11 (Dropout)        (None, 2250, 192)         0         \n",
      "                                                                 \n",
      " bidirectional_1 (Bidirectio  (None, 2250, 24)         14832     \n",
      " nal)                                                            \n",
      "                                                                 \n",
      " leaky_re_lu_32 (LeakyReLU)  (None, 2250, 24)          0         \n",
      "                                                                 \n",
      " dropout_12 (Dropout)        (None, 2250, 24)          0         \n",
      "                                                                 \n",
      " attention_with_context_1 (A  (None, 24)               624       \n",
      " ttentionWithContext)                                            \n",
      "                                                                 \n",
      " batch_normalization_1 (Batc  (None, 24)               96        \n",
      " hNormalization)                                                 \n",
      "                                                                 \n",
      " leaky_re_lu_33 (LeakyReLU)  (None, 24)                0         \n",
      "                                                                 \n",
      " dropout_13 (Dropout)        (None, 24)                0         \n",
      "                                                                 \n",
      " dense_1 (Dense)             (None, 9)                 225       \n",
      "                                                                 \n",
      "=================================================================\n",
      "Total params: 1,416,573\n",
      "Trainable params: 1,416,525\n",
      "Non-trainable params: 48\n",
      "_________________________________________________________________\n"
     ]
    }
   ],
   "source": [
    "from keras.layers import Input, Conv1D, LeakyReLU, Dropout, Bidirectional, GRU, BatchNormalization, Dense\n",
    "from keras.models import Model\n",
    "\n",
    "def build_ecg_model(input_shape=(72000, 12), num_classes=9):\n",
    "    main_input = Input(shape=input_shape, dtype='float32', name='main_input')\n",
    "\n",
    "    # Combination of convolutional layers and LeakyReLU\n",
    "    x = main_input\n",
    "    filters = 12  # Initial number of filters\n",
    "    for _ in range(5):  # Five sets of convolutional combinations\n",
    "        x = Conv1D(filters, 3, padding='same')(x)\n",
    "        x = LeakyReLU(alpha=0.3)(x)\n",
    "        x = Conv1D(filters, 3, padding='same')(x)\n",
    "        x = LeakyReLU(alpha=0.3)(x)\n",
    "        x = Conv1D(filters, 24, strides=2, padding='same')(x)\n",
    "        x = LeakyReLU(alpha=0.3)(x)\n",
    "        x = Dropout(0.2)(x)\n",
    "        filters *= 2  # Increase the number of filters per layer to enhance model learning capability\n",
    "\n",
    "    # Bidirectional GRU layer\n",
    "    x = Bidirectional(GRU(12, return_sequences=True))(x)\n",
    "    x = LeakyReLU(alpha=0.3)(x)\n",
    "    x = Dropout(0.2)(x)\n",
    "\n",
    "    # Attention layer\n",
    "    x = AttentionWithContext()(x)\n",
    "    x = BatchNormalization()(x)\n",
    "    x = LeakyReLU(alpha=0.3)(x)\n",
    "    x = Dropout(0.5)(x)  # Increase to 0.5 to reduce overfitting risk\n",
    "\n",
    "    # Output layer\n",
    "    main_output = Dense(num_classes, activation='sigmoid')(x)\n",
    "\n",
    "    # Build the model\n",
    "    model = Model(inputs=main_input, outputs=main_output)\n",
    "    return model\n",
    "\n",
    "# Build the model\n",
    "model = build_ecg_model()\n",
    "model.summary()"
   ]
  },
  {
   "cell_type": "code",
   "execution_count": 20,
   "metadata": {},
   "outputs": [
    {
     "name": "stdout",
     "output_type": "stream",
     "text": [
      "Epoch 1/100\n"
     ]
    },
    {
     "ename": "NotFoundError",
     "evalue": "Graph execution error:\n\nDetected at node 'model_1/conv1d_15/Conv1D' defined at (most recent call last):\n    File \"c:\\Users\\user\\anaconda3\\envs\\ECG_analysis_env\\lib\\runpy.py\", line 197, in _run_module_as_main\n      return _run_code(code, main_globals, None,\n    File \"c:\\Users\\user\\anaconda3\\envs\\ECG_analysis_env\\lib\\runpy.py\", line 87, in _run_code\n      exec(code, run_globals)\n    File \"c:\\Users\\user\\anaconda3\\envs\\ECG_analysis_env\\lib\\site-packages\\ipykernel_launcher.py\", line 18, in <module>\n      app.launch_new_instance()\n    File \"c:\\Users\\user\\anaconda3\\envs\\ECG_analysis_env\\lib\\site-packages\\traitlets\\config\\application.py\", line 1075, in launch_instance\n      app.start()\n    File \"c:\\Users\\user\\anaconda3\\envs\\ECG_analysis_env\\lib\\site-packages\\ipykernel\\kernelapp.py\", line 739, in start\n      self.io_loop.start()\n    File \"c:\\Users\\user\\anaconda3\\envs\\ECG_analysis_env\\lib\\site-packages\\tornado\\platform\\asyncio.py\", line 205, in start\n      self.asyncio_loop.run_forever()\n    File \"c:\\Users\\user\\anaconda3\\envs\\ECG_analysis_env\\lib\\asyncio\\base_events.py\", line 601, in run_forever\n      self._run_once()\n    File \"c:\\Users\\user\\anaconda3\\envs\\ECG_analysis_env\\lib\\asyncio\\base_events.py\", line 1905, in _run_once\n      handle._run()\n    File \"c:\\Users\\user\\anaconda3\\envs\\ECG_analysis_env\\lib\\asyncio\\events.py\", line 80, in _run\n      self._context.run(self._callback, *self._args)\n    File \"c:\\Users\\user\\anaconda3\\envs\\ECG_analysis_env\\lib\\site-packages\\ipykernel\\kernelbase.py\", line 545, in dispatch_queue\n      await self.process_one()\n    File \"c:\\Users\\user\\anaconda3\\envs\\ECG_analysis_env\\lib\\site-packages\\ipykernel\\kernelbase.py\", line 534, in process_one\n      await dispatch(*args)\n    File \"c:\\Users\\user\\anaconda3\\envs\\ECG_analysis_env\\lib\\site-packages\\ipykernel\\kernelbase.py\", line 437, in dispatch_shell\n      await result\n    File \"c:\\Users\\user\\anaconda3\\envs\\ECG_analysis_env\\lib\\site-packages\\ipykernel\\ipkernel.py\", line 362, in execute_request\n      await super().execute_request(stream, ident, parent)\n    File \"c:\\Users\\user\\anaconda3\\envs\\ECG_analysis_env\\lib\\site-packages\\ipykernel\\kernelbase.py\", line 778, in execute_request\n      reply_content = await reply_content\n    File \"c:\\Users\\user\\anaconda3\\envs\\ECG_analysis_env\\lib\\site-packages\\ipykernel\\ipkernel.py\", line 449, in do_execute\n      res = shell.run_cell(\n    File \"c:\\Users\\user\\anaconda3\\envs\\ECG_analysis_env\\lib\\site-packages\\ipykernel\\zmqshell.py\", line 549, in run_cell\n      return super().run_cell(*args, **kwargs)\n    File \"c:\\Users\\user\\anaconda3\\envs\\ECG_analysis_env\\lib\\site-packages\\IPython\\core\\interactiveshell.py\", line 3048, in run_cell\n      result = self._run_cell(\n    File \"c:\\Users\\user\\anaconda3\\envs\\ECG_analysis_env\\lib\\site-packages\\IPython\\core\\interactiveshell.py\", line 3103, in _run_cell\n      result = runner(coro)\n    File \"c:\\Users\\user\\anaconda3\\envs\\ECG_analysis_env\\lib\\site-packages\\IPython\\core\\async_helpers.py\", line 129, in _pseudo_sync_runner\n      coro.send(None)\n    File \"c:\\Users\\user\\anaconda3\\envs\\ECG_analysis_env\\lib\\site-packages\\IPython\\core\\interactiveshell.py\", line 3308, in run_cell_async\n      has_raised = await self.run_ast_nodes(code_ast.body, cell_name,\n    File \"c:\\Users\\user\\anaconda3\\envs\\ECG_analysis_env\\lib\\site-packages\\IPython\\core\\interactiveshell.py\", line 3490, in run_ast_nodes\n      if await self.run_code(code, result, async_=asy):\n    File \"c:\\Users\\user\\anaconda3\\envs\\ECG_analysis_env\\lib\\site-packages\\IPython\\core\\interactiveshell.py\", line 3550, in run_code\n      exec(code_obj, self.user_global_ns, self.user_ns)\n    File \"C:\\Users\\user\\AppData\\Local\\Temp\\ipykernel_14896\\3645810845.py\", line 12, in <module>\n      history = model.fit(\n    File \"c:\\Users\\user\\anaconda3\\envs\\ECG_analysis_env\\lib\\site-packages\\keras\\utils\\traceback_utils.py\", line 65, in error_handler\n      return fn(*args, **kwargs)\n    File \"c:\\Users\\user\\anaconda3\\envs\\ECG_analysis_env\\lib\\site-packages\\keras\\engine\\training.py\", line 1564, in fit\n      tmp_logs = self.train_function(iterator)\n    File \"c:\\Users\\user\\anaconda3\\envs\\ECG_analysis_env\\lib\\site-packages\\keras\\engine\\training.py\", line 1160, in train_function\n      return step_function(self, iterator)\n    File \"c:\\Users\\user\\anaconda3\\envs\\ECG_analysis_env\\lib\\site-packages\\keras\\engine\\training.py\", line 1146, in step_function\n      outputs = model.distribute_strategy.run(run_step, args=(data,))\n    File \"c:\\Users\\user\\anaconda3\\envs\\ECG_analysis_env\\lib\\site-packages\\keras\\engine\\training.py\", line 1135, in run_step\n      outputs = model.train_step(data)\n    File \"c:\\Users\\user\\anaconda3\\envs\\ECG_analysis_env\\lib\\site-packages\\keras\\engine\\training.py\", line 993, in train_step\n      y_pred = self(x, training=True)\n    File \"c:\\Users\\user\\anaconda3\\envs\\ECG_analysis_env\\lib\\site-packages\\keras\\utils\\traceback_utils.py\", line 65, in error_handler\n      return fn(*args, **kwargs)\n    File \"c:\\Users\\user\\anaconda3\\envs\\ECG_analysis_env\\lib\\site-packages\\keras\\engine\\training.py\", line 557, in __call__\n      return super().__call__(*args, **kwargs)\n    File \"c:\\Users\\user\\anaconda3\\envs\\ECG_analysis_env\\lib\\site-packages\\keras\\utils\\traceback_utils.py\", line 65, in error_handler\n      return fn(*args, **kwargs)\n    File \"c:\\Users\\user\\anaconda3\\envs\\ECG_analysis_env\\lib\\site-packages\\keras\\engine\\base_layer.py\", line 1097, in __call__\n      outputs = call_fn(inputs, *args, **kwargs)\n    File \"c:\\Users\\user\\anaconda3\\envs\\ECG_analysis_env\\lib\\site-packages\\keras\\utils\\traceback_utils.py\", line 96, in error_handler\n      return fn(*args, **kwargs)\n    File \"c:\\Users\\user\\anaconda3\\envs\\ECG_analysis_env\\lib\\site-packages\\keras\\engine\\functional.py\", line 510, in call\n      return self._run_internal_graph(inputs, training=training, mask=mask)\n    File \"c:\\Users\\user\\anaconda3\\envs\\ECG_analysis_env\\lib\\site-packages\\keras\\engine\\functional.py\", line 667, in _run_internal_graph\n      outputs = node.layer(*args, **kwargs)\n    File \"c:\\Users\\user\\anaconda3\\envs\\ECG_analysis_env\\lib\\site-packages\\keras\\utils\\traceback_utils.py\", line 65, in error_handler\n      return fn(*args, **kwargs)\n    File \"c:\\Users\\user\\anaconda3\\envs\\ECG_analysis_env\\lib\\site-packages\\keras\\engine\\base_layer.py\", line 1097, in __call__\n      outputs = call_fn(inputs, *args, **kwargs)\n    File \"c:\\Users\\user\\anaconda3\\envs\\ECG_analysis_env\\lib\\site-packages\\keras\\utils\\traceback_utils.py\", line 96, in error_handler\n      return fn(*args, **kwargs)\n    File \"c:\\Users\\user\\anaconda3\\envs\\ECG_analysis_env\\lib\\site-packages\\keras\\layers\\convolutional\\base_conv.py\", line 283, in call\n      outputs = self.convolution_op(inputs, self.kernel)\n    File \"c:\\Users\\user\\anaconda3\\envs\\ECG_analysis_env\\lib\\site-packages\\keras\\layers\\convolutional\\base_conv.py\", line 255, in convolution_op\n      return tf.nn.convolution(\nNode: 'model_1/conv1d_15/Conv1D'\nNo algorithm worked!  Error messages:\n\t [[{{node model_1/conv1d_15/Conv1D}}]] [Op:__inference_train_function_9988]",
     "output_type": "error",
     "traceback": [
      "\u001b[1;31m---------------------------------------------------------------------------\u001b[0m",
      "\u001b[1;31mNotFoundError\u001b[0m                             Traceback (most recent call last)",
      "Cell \u001b[1;32mIn[20], line 12\u001b[0m\n\u001b[0;32m      9\u001b[0m batch_size \u001b[38;5;241m=\u001b[39m \u001b[38;5;241m8\u001b[39m  \u001b[38;5;66;03m# Adjust the batch size as needed\u001b[39;00m\n\u001b[0;32m     10\u001b[0m train_generator \u001b[38;5;241m=\u001b[39m data_generator(X_train, y_train, batch_size)\n\u001b[1;32m---> 12\u001b[0m history \u001b[38;5;241m=\u001b[39m \u001b[43mmodel\u001b[49m\u001b[38;5;241;43m.\u001b[39;49m\u001b[43mfit\u001b[49m\u001b[43m(\u001b[49m\n\u001b[0;32m     13\u001b[0m \u001b[43m    \u001b[49m\u001b[43mtrain_generator\u001b[49m\u001b[43m,\u001b[49m\n\u001b[0;32m     14\u001b[0m \u001b[43m    \u001b[49m\u001b[43msteps_per_epoch\u001b[49m\u001b[38;5;241;43m=\u001b[39;49m\u001b[38;5;28;43mlen\u001b[39;49m\u001b[43m(\u001b[49m\u001b[43mX_train\u001b[49m\u001b[43m)\u001b[49m\u001b[43m \u001b[49m\u001b[38;5;241;43m/\u001b[39;49m\u001b[38;5;241;43m/\u001b[39;49m\u001b[43m \u001b[49m\u001b[43mbatch_size\u001b[49m\u001b[43m,\u001b[49m\u001b[43m  \u001b[49m\u001b[38;5;66;43;03m# Steps per epoch\u001b[39;49;00m\n\u001b[0;32m     15\u001b[0m \u001b[43m    \u001b[49m\u001b[43mepochs\u001b[49m\u001b[38;5;241;43m=\u001b[39;49m\u001b[38;5;241;43m100\u001b[39;49m\u001b[43m,\u001b[49m\n\u001b[0;32m     16\u001b[0m \u001b[43m    \u001b[49m\u001b[43mvalidation_data\u001b[49m\u001b[38;5;241;43m=\u001b[39;49m\u001b[43m(\u001b[49m\u001b[43mX_test\u001b[49m\u001b[43m,\u001b[49m\u001b[43m \u001b[49m\u001b[43my_test\u001b[49m\u001b[43m)\u001b[49m\n\u001b[0;32m     17\u001b[0m \u001b[43m)\u001b[49m\n",
      "File \u001b[1;32mc:\\Users\\user\\anaconda3\\envs\\ECG_analysis_env\\lib\\site-packages\\keras\\utils\\traceback_utils.py:70\u001b[0m, in \u001b[0;36mfilter_traceback.<locals>.error_handler\u001b[1;34m(*args, **kwargs)\u001b[0m\n\u001b[0;32m     67\u001b[0m     filtered_tb \u001b[38;5;241m=\u001b[39m _process_traceback_frames(e\u001b[38;5;241m.\u001b[39m__traceback__)\n\u001b[0;32m     68\u001b[0m     \u001b[38;5;66;03m# To get the full stack trace, call:\u001b[39;00m\n\u001b[0;32m     69\u001b[0m     \u001b[38;5;66;03m# `tf.debugging.disable_traceback_filtering()`\u001b[39;00m\n\u001b[1;32m---> 70\u001b[0m     \u001b[38;5;28;01mraise\u001b[39;00m e\u001b[38;5;241m.\u001b[39mwith_traceback(filtered_tb) \u001b[38;5;28;01mfrom\u001b[39;00m \u001b[38;5;28;01mNone\u001b[39;00m\n\u001b[0;32m     71\u001b[0m \u001b[38;5;28;01mfinally\u001b[39;00m:\n\u001b[0;32m     72\u001b[0m     \u001b[38;5;28;01mdel\u001b[39;00m filtered_tb\n",
      "File \u001b[1;32m~\\AppData\\Roaming\\Python\\Python39\\site-packages\\tensorflow\\python\\eager\\execute.py:54\u001b[0m, in \u001b[0;36mquick_execute\u001b[1;34m(op_name, num_outputs, inputs, attrs, ctx, name)\u001b[0m\n\u001b[0;32m     52\u001b[0m \u001b[38;5;28;01mtry\u001b[39;00m:\n\u001b[0;32m     53\u001b[0m   ctx\u001b[38;5;241m.\u001b[39mensure_initialized()\n\u001b[1;32m---> 54\u001b[0m   tensors \u001b[38;5;241m=\u001b[39m pywrap_tfe\u001b[38;5;241m.\u001b[39mTFE_Py_Execute(ctx\u001b[38;5;241m.\u001b[39m_handle, device_name, op_name,\n\u001b[0;32m     55\u001b[0m                                       inputs, attrs, num_outputs)\n\u001b[0;32m     56\u001b[0m \u001b[38;5;28;01mexcept\u001b[39;00m core\u001b[38;5;241m.\u001b[39m_NotOkStatusException \u001b[38;5;28;01mas\u001b[39;00m e:\n\u001b[0;32m     57\u001b[0m   \u001b[38;5;28;01mif\u001b[39;00m name \u001b[38;5;129;01mis\u001b[39;00m \u001b[38;5;129;01mnot\u001b[39;00m \u001b[38;5;28;01mNone\u001b[39;00m:\n",
      "\u001b[1;31mNotFoundError\u001b[0m: Graph execution error:\n\nDetected at node 'model_1/conv1d_15/Conv1D' defined at (most recent call last):\n    File \"c:\\Users\\user\\anaconda3\\envs\\ECG_analysis_env\\lib\\runpy.py\", line 197, in _run_module_as_main\n      return _run_code(code, main_globals, None,\n    File \"c:\\Users\\user\\anaconda3\\envs\\ECG_analysis_env\\lib\\runpy.py\", line 87, in _run_code\n      exec(code, run_globals)\n    File \"c:\\Users\\user\\anaconda3\\envs\\ECG_analysis_env\\lib\\site-packages\\ipykernel_launcher.py\", line 18, in <module>\n      app.launch_new_instance()\n    File \"c:\\Users\\user\\anaconda3\\envs\\ECG_analysis_env\\lib\\site-packages\\traitlets\\config\\application.py\", line 1075, in launch_instance\n      app.start()\n    File \"c:\\Users\\user\\anaconda3\\envs\\ECG_analysis_env\\lib\\site-packages\\ipykernel\\kernelapp.py\", line 739, in start\n      self.io_loop.start()\n    File \"c:\\Users\\user\\anaconda3\\envs\\ECG_analysis_env\\lib\\site-packages\\tornado\\platform\\asyncio.py\", line 205, in start\n      self.asyncio_loop.run_forever()\n    File \"c:\\Users\\user\\anaconda3\\envs\\ECG_analysis_env\\lib\\asyncio\\base_events.py\", line 601, in run_forever\n      self._run_once()\n    File \"c:\\Users\\user\\anaconda3\\envs\\ECG_analysis_env\\lib\\asyncio\\base_events.py\", line 1905, in _run_once\n      handle._run()\n    File \"c:\\Users\\user\\anaconda3\\envs\\ECG_analysis_env\\lib\\asyncio\\events.py\", line 80, in _run\n      self._context.run(self._callback, *self._args)\n    File \"c:\\Users\\user\\anaconda3\\envs\\ECG_analysis_env\\lib\\site-packages\\ipykernel\\kernelbase.py\", line 545, in dispatch_queue\n      await self.process_one()\n    File \"c:\\Users\\user\\anaconda3\\envs\\ECG_analysis_env\\lib\\site-packages\\ipykernel\\kernelbase.py\", line 534, in process_one\n      await dispatch(*args)\n    File \"c:\\Users\\user\\anaconda3\\envs\\ECG_analysis_env\\lib\\site-packages\\ipykernel\\kernelbase.py\", line 437, in dispatch_shell\n      await result\n    File \"c:\\Users\\user\\anaconda3\\envs\\ECG_analysis_env\\lib\\site-packages\\ipykernel\\ipkernel.py\", line 362, in execute_request\n      await super().execute_request(stream, ident, parent)\n    File \"c:\\Users\\user\\anaconda3\\envs\\ECG_analysis_env\\lib\\site-packages\\ipykernel\\kernelbase.py\", line 778, in execute_request\n      reply_content = await reply_content\n    File \"c:\\Users\\user\\anaconda3\\envs\\ECG_analysis_env\\lib\\site-packages\\ipykernel\\ipkernel.py\", line 449, in do_execute\n      res = shell.run_cell(\n    File \"c:\\Users\\user\\anaconda3\\envs\\ECG_analysis_env\\lib\\site-packages\\ipykernel\\zmqshell.py\", line 549, in run_cell\n      return super().run_cell(*args, **kwargs)\n    File \"c:\\Users\\user\\anaconda3\\envs\\ECG_analysis_env\\lib\\site-packages\\IPython\\core\\interactiveshell.py\", line 3048, in run_cell\n      result = self._run_cell(\n    File \"c:\\Users\\user\\anaconda3\\envs\\ECG_analysis_env\\lib\\site-packages\\IPython\\core\\interactiveshell.py\", line 3103, in _run_cell\n      result = runner(coro)\n    File \"c:\\Users\\user\\anaconda3\\envs\\ECG_analysis_env\\lib\\site-packages\\IPython\\core\\async_helpers.py\", line 129, in _pseudo_sync_runner\n      coro.send(None)\n    File \"c:\\Users\\user\\anaconda3\\envs\\ECG_analysis_env\\lib\\site-packages\\IPython\\core\\interactiveshell.py\", line 3308, in run_cell_async\n      has_raised = await self.run_ast_nodes(code_ast.body, cell_name,\n    File \"c:\\Users\\user\\anaconda3\\envs\\ECG_analysis_env\\lib\\site-packages\\IPython\\core\\interactiveshell.py\", line 3490, in run_ast_nodes\n      if await self.run_code(code, result, async_=asy):\n    File \"c:\\Users\\user\\anaconda3\\envs\\ECG_analysis_env\\lib\\site-packages\\IPython\\core\\interactiveshell.py\", line 3550, in run_code\n      exec(code_obj, self.user_global_ns, self.user_ns)\n    File \"C:\\Users\\user\\AppData\\Local\\Temp\\ipykernel_14896\\3645810845.py\", line 12, in <module>\n      history = model.fit(\n    File \"c:\\Users\\user\\anaconda3\\envs\\ECG_analysis_env\\lib\\site-packages\\keras\\utils\\traceback_utils.py\", line 65, in error_handler\n      return fn(*args, **kwargs)\n    File \"c:\\Users\\user\\anaconda3\\envs\\ECG_analysis_env\\lib\\site-packages\\keras\\engine\\training.py\", line 1564, in fit\n      tmp_logs = self.train_function(iterator)\n    File \"c:\\Users\\user\\anaconda3\\envs\\ECG_analysis_env\\lib\\site-packages\\keras\\engine\\training.py\", line 1160, in train_function\n      return step_function(self, iterator)\n    File \"c:\\Users\\user\\anaconda3\\envs\\ECG_analysis_env\\lib\\site-packages\\keras\\engine\\training.py\", line 1146, in step_function\n      outputs = model.distribute_strategy.run(run_step, args=(data,))\n    File \"c:\\Users\\user\\anaconda3\\envs\\ECG_analysis_env\\lib\\site-packages\\keras\\engine\\training.py\", line 1135, in run_step\n      outputs = model.train_step(data)\n    File \"c:\\Users\\user\\anaconda3\\envs\\ECG_analysis_env\\lib\\site-packages\\keras\\engine\\training.py\", line 993, in train_step\n      y_pred = self(x, training=True)\n    File \"c:\\Users\\user\\anaconda3\\envs\\ECG_analysis_env\\lib\\site-packages\\keras\\utils\\traceback_utils.py\", line 65, in error_handler\n      return fn(*args, **kwargs)\n    File \"c:\\Users\\user\\anaconda3\\envs\\ECG_analysis_env\\lib\\site-packages\\keras\\engine\\training.py\", line 557, in __call__\n      return super().__call__(*args, **kwargs)\n    File \"c:\\Users\\user\\anaconda3\\envs\\ECG_analysis_env\\lib\\site-packages\\keras\\utils\\traceback_utils.py\", line 65, in error_handler\n      return fn(*args, **kwargs)\n    File \"c:\\Users\\user\\anaconda3\\envs\\ECG_analysis_env\\lib\\site-packages\\keras\\engine\\base_layer.py\", line 1097, in __call__\n      outputs = call_fn(inputs, *args, **kwargs)\n    File \"c:\\Users\\user\\anaconda3\\envs\\ECG_analysis_env\\lib\\site-packages\\keras\\utils\\traceback_utils.py\", line 96, in error_handler\n      return fn(*args, **kwargs)\n    File \"c:\\Users\\user\\anaconda3\\envs\\ECG_analysis_env\\lib\\site-packages\\keras\\engine\\functional.py\", line 510, in call\n      return self._run_internal_graph(inputs, training=training, mask=mask)\n    File \"c:\\Users\\user\\anaconda3\\envs\\ECG_analysis_env\\lib\\site-packages\\keras\\engine\\functional.py\", line 667, in _run_internal_graph\n      outputs = node.layer(*args, **kwargs)\n    File \"c:\\Users\\user\\anaconda3\\envs\\ECG_analysis_env\\lib\\site-packages\\keras\\utils\\traceback_utils.py\", line 65, in error_handler\n      return fn(*args, **kwargs)\n    File \"c:\\Users\\user\\anaconda3\\envs\\ECG_analysis_env\\lib\\site-packages\\keras\\engine\\base_layer.py\", line 1097, in __call__\n      outputs = call_fn(inputs, *args, **kwargs)\n    File \"c:\\Users\\user\\anaconda3\\envs\\ECG_analysis_env\\lib\\site-packages\\keras\\utils\\traceback_utils.py\", line 96, in error_handler\n      return fn(*args, **kwargs)\n    File \"c:\\Users\\user\\anaconda3\\envs\\ECG_analysis_env\\lib\\site-packages\\keras\\layers\\convolutional\\base_conv.py\", line 283, in call\n      outputs = self.convolution_op(inputs, self.kernel)\n    File \"c:\\Users\\user\\anaconda3\\envs\\ECG_analysis_env\\lib\\site-packages\\keras\\layers\\convolutional\\base_conv.py\", line 255, in convolution_op\n      return tf.nn.convolution(\nNode: 'model_1/conv1d_15/Conv1D'\nNo algorithm worked!  Error messages:\n\t [[{{node model_1/conv1d_15/Conv1D}}]] [Op:__inference_train_function_9988]"
     ]
    }
   ],
   "source": [
    "def data_generator(X, y, batch_size):\n",
    "    data_size = X.shape[0]\n",
    "    while True:  # Ensure the generator can continuously provide data\n",
    "        for i in range(0, data_size, batch_size):\n",
    "            X_batch = X[i:i+batch_size]\n",
    "            y_batch = y[i:i+batch_size]\n",
    "            yield np.array(X_batch), np.array(y_batch)\n",
    "            \n",
    "batch_size = 8  # Adjust the batch size as needed\n",
    "train_generator = data_generator(X_train, y_train, batch_size)\n",
    "\n",
    "history = model.fit(\n",
    "    train_generator,\n",
    "    steps_per_epoch=len(X_train) // batch_size,  # Steps per epoch\n",
    "    epochs=100,\n",
    "    validation_data=(X_test, y_test)\n",
    ")"
   ]
  }
 ],
 "metadata": {
  "kernelspec": {
   "display_name": "ECG_analysis_env",
   "language": "python",
   "name": "python3"
  },
  "language_info": {
   "codemirror_mode": {
    "name": "ipython",
    "version": 3
   },
   "file_extension": ".py",
   "mimetype": "text/x-python",
   "name": "python",
   "nbconvert_exporter": "python",
   "pygments_lexer": "ipython3",
   "version": "3.9.20"
  }
 },
 "nbformat": 4,
 "nbformat_minor": 2
}
